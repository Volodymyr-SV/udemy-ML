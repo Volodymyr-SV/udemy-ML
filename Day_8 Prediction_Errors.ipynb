{
  "nbformat": 4,
  "nbformat_minor": 0,
  "metadata": {
    "colab": {
      "name": "Prediction Errors.ipynb",
      "provenance": [],
      "authorship_tag": "ABX9TyNVFo2A5er43rcW3Mj5AnWM",
      "include_colab_link": true
    },
    "kernelspec": {
      "name": "python3",
      "display_name": "Python 3"
    },
    "language_info": {
      "name": "python"
    }
  },
  "cells": [
    {
      "cell_type": "markdown",
      "metadata": {
        "id": "view-in-github",
        "colab_type": "text"
      },
      "source": [
        "<a href=\"https://colab.research.google.com/github/Volodymyr-SV/udemy-ML/blob/main/Day_8%20Prediction_Errors.ipynb\" target=\"_parent\"><img src=\"https://colab.research.google.com/assets/colab-badge.svg\" alt=\"Open In Colab\"/></a>"
      ]
    },
    {
      "cell_type": "markdown",
      "metadata": {
        "id": "m3W4WAPFc-oA"
      },
      "source": [
        "## Data"
      ]
    },
    {
      "cell_type": "code",
      "metadata": {
        "id": "Q-d1uyMNO9X8"
      },
      "source": [
        "import numpy as np\n",
        "import matplotlib.pyplot as plt\n",
        "import pandas as pd\n",
        "\n",
        "dataset = pd.read_csv('Social_Network_Ads.csv')\n",
        "X = dataset.iloc[:, :-1].values\n",
        "y = dataset.iloc[:, -1].values\n",
        "\n",
        "from sklearn.model_selection import train_test_split\n",
        "X_train, X_test, y_train, y_test = train_test_split(X, y, test_size = 0.25, random_state = 0)\n",
        "from sklearn.preprocessing import StandardScaler\n",
        "sc = StandardScaler()\n",
        "X_train = sc.fit_transform(X_train)\n",
        "X_test = sc.transform(X_test)\n",
        "\n",
        "y_pred = []"
      ],
      "execution_count": 12,
      "outputs": []
    },
    {
      "cell_type": "markdown",
      "metadata": {
        "id": "gCXAMVmWPsER"
      },
      "source": [
        "## Methods"
      ]
    },
    {
      "cell_type": "code",
      "metadata": {
        "colab": {
          "base_uri": "https://localhost:8080/"
        },
        "id": "tZ3sp89pPGOr",
        "outputId": "2ddb25de-8d02-4d65-e392-dd91309bd1aa"
      },
      "source": [
        "from sklearn.linear_model import LogisticRegression\n",
        "LR_classifier = LogisticRegression(random_state = 0)\n",
        "LR_classifier.fit(X_train, y_train)\n",
        "from sklearn.metrics import confusion_matrix, accuracy_score\n",
        "y_pred_LR = LR_classifier.predict(X_test)\n",
        "\n",
        "y_pred.append(np.concatenate((y_test.reshape(len(y_test),1), y_pred_LR.reshape(len(y_pred_LR),1)),1))\n",
        "\n",
        "cm = confusion_matrix(y_test, y_pred_LR)\n",
        "print(cm)\n",
        "# accuracy_score(y_test, y_pred)"
      ],
      "execution_count": 13,
      "outputs": [
        {
          "output_type": "stream",
          "name": "stdout",
          "text": [
            "[[65  3]\n",
            " [ 8 24]]\n"
          ]
        }
      ]
    },
    {
      "cell_type": "code",
      "metadata": {
        "colab": {
          "base_uri": "https://localhost:8080/"
        },
        "id": "dsoi92KPPTqd",
        "outputId": "dab74751-a8ae-4e80-867b-1587fc90022c"
      },
      "source": [
        "from sklearn.neighbors import KNeighborsClassifier\n",
        "KNN_classifier = KNeighborsClassifier(n_neighbors = 5, metric = 'minkowski', p = 2)\n",
        "KNN_classifier.fit(X_train, y_train)\n",
        "y_pred_KNN = KNN_classifier.predict(X_test)\n",
        "\n",
        "y_pred.append(np.concatenate((y_test.reshape(len(y_test),1), y_pred_KNN.reshape(len(y_pred_KNN),1)),1))\n",
        "\n",
        "cm = confusion_matrix(y_test, y_pred_KNN)\n",
        "print(cm)"
      ],
      "execution_count": 7,
      "outputs": [
        {
          "output_type": "stream",
          "name": "stdout",
          "text": [
            "[[64  4]\n",
            " [ 3 29]]\n"
          ]
        }
      ]
    },
    {
      "cell_type": "code",
      "metadata": {
        "colab": {
          "base_uri": "https://localhost:8080/"
        },
        "id": "hmH5wSy2PXdF",
        "outputId": "fb9b78b9-60a9-441f-b374-fd0f77b495c1"
      },
      "source": [
        "from sklearn.svm import SVC\n",
        "SVC_classifier = SVC(kernel = 'linear', random_state = 0)\n",
        "SVC_classifier.fit(X_train, y_train)\n",
        "y_pred_SVC = SVC_classifier.predict(X_test)\n",
        "\n",
        "y_pred.append(np.concatenate((y_test.reshape(len(y_test),1), y_pred_SVC.reshape(len(y_pred_SVC),1)),1))\n",
        "\n",
        "cm = confusion_matrix(y_test, y_pred_SVC)\n",
        "print(cm)"
      ],
      "execution_count": 14,
      "outputs": [
        {
          "output_type": "stream",
          "name": "stdout",
          "text": [
            "[[66  2]\n",
            " [ 8 24]]\n"
          ]
        }
      ]
    },
    {
      "cell_type": "code",
      "metadata": {
        "colab": {
          "base_uri": "https://localhost:8080/"
        },
        "id": "HyHUOvS6Pej0",
        "outputId": "2448cc80-45b2-48a5-8eaa-2d717daa836f"
      },
      "source": [
        "from sklearn.svm import SVC\n",
        "KSVC_classifier = SVC(kernel = 'rbf', random_state = 0)\n",
        "KSVC_classifier.fit(X_train, y_train)\n",
        "y_pred_KSVC = KSVC_classifier.predict(X_test)\n",
        "\n",
        "y_pred.append(np.concatenate((y_test.reshape(len(y_test),1), y_pred_KSVC.reshape(len(y_pred_KSVC),1)),1))\n",
        "\n",
        "cm = confusion_matrix(y_test, y_pred_KSVC)\n",
        "print(cm)"
      ],
      "execution_count": 15,
      "outputs": [
        {
          "output_type": "stream",
          "name": "stdout",
          "text": [
            "[[64  4]\n",
            " [ 3 29]]\n"
          ]
        }
      ]
    },
    {
      "cell_type": "code",
      "metadata": {
        "colab": {
          "base_uri": "https://localhost:8080/"
        },
        "id": "n-zEPkL4Pksz",
        "outputId": "3aedb520-1be8-41f0-cb81-9ae4353396c5"
      },
      "source": [
        "from sklearn.naive_bayes import GaussianNB\n",
        "NB_classifier = GaussianNB()\n",
        "NB_classifier.fit(X_train, y_train)\n",
        "y_pred_NB = NB_classifier.predict(X_test)\n",
        "\n",
        "y_pred.append(np.concatenate((y_test.reshape(len(y_test),1), y_pred_NB.reshape(len(y_pred_NB),1)),1))\n",
        "\n",
        "cm = confusion_matrix(y_test, y_pred_NB)\n",
        "print(cm)"
      ],
      "execution_count": 16,
      "outputs": [
        {
          "output_type": "stream",
          "name": "stdout",
          "text": [
            "[[65  3]\n",
            " [ 7 25]]\n"
          ]
        }
      ]
    },
    {
      "cell_type": "code",
      "metadata": {
        "colab": {
          "base_uri": "https://localhost:8080/"
        },
        "id": "qwjgy2e_Pm87",
        "outputId": "76ba6f16-23c0-4127-d2b2-75f706478ecb"
      },
      "source": [
        "from sklearn.tree import DecisionTreeClassifier\n",
        "DT_classifier = DecisionTreeClassifier(criterion = 'entropy', random_state = 0)\n",
        "DT_classifier.fit(X_train, y_train)\n",
        "y_pred_DT = DT_classifier.predict(X_test)\n",
        "\n",
        "y_pred.append(np.concatenate((y_test.reshape(len(y_test),1), y_pred_DT.reshape(len(y_pred_DT),1)),1))\n",
        "\n",
        "cm = confusion_matrix(y_test, y_pred_DT)\n",
        "print(cm)"
      ],
      "execution_count": 17,
      "outputs": [
        {
          "output_type": "stream",
          "name": "stdout",
          "text": [
            "[[62  6]\n",
            " [ 3 29]]\n"
          ]
        }
      ]
    },
    {
      "cell_type": "code",
      "metadata": {
        "colab": {
          "base_uri": "https://localhost:8080/"
        },
        "id": "iqIkZqKZPorF",
        "outputId": "f4c31a50-b30c-4c02-a0f3-2bf73eda0a26"
      },
      "source": [
        "from sklearn.ensemble import RandomForestClassifier\n",
        "RFC_classifier = RandomForestClassifier(n_estimators = 9, criterion = 'entropy', random_state = 0)\n",
        "RFC_classifier.fit(X_train, y_train)\n",
        "y_pred_RFC = RFC_classifier.predict(X_test)\n",
        "\n",
        "y_pred.append(np.concatenate((y_test.reshape(len(y_test),1), y_pred_RFC.reshape(len(y_pred_RFC),1)),1))\n",
        "\n",
        "cm = confusion_matrix(y_test, y_pred_RFC)\n",
        "print(cm)"
      ],
      "execution_count": 18,
      "outputs": [
        {
          "output_type": "stream",
          "name": "stdout",
          "text": [
            "[[62  6]\n",
            " [ 4 28]]\n"
          ]
        }
      ]
    },
    {
      "cell_type": "markdown",
      "metadata": {
        "id": "OH7luaw7ZxFK"
      },
      "source": [
        "## Differences in prediction"
      ]
    },
    {
      "cell_type": "code",
      "metadata": {
        "colab": {
          "base_uri": "https://localhost:8080/"
        },
        "id": "OpPD-rHUaXRG",
        "outputId": "335ed3f3-b914-4bc9-ba44-e7d359f3d13b"
      },
      "source": [
        "y_diff = []\n",
        "for diff_pred in y_pred:\n",
        "    diff = []\n",
        "    for i, j in enumerate(diff_pred):\n",
        "        if j[0] != j[1]: diff.append(i)\n",
        "    y_diff.append(np.array(diff))\n",
        "y_diff = np.array(y_diff)"
      ],
      "execution_count": 8,
      "outputs": [
        {
          "output_type": "stream",
          "name": "stderr",
          "text": [
            "/usr/local/lib/python3.7/dist-packages/ipykernel_launcher.py:7: VisibleDeprecationWarning: Creating an ndarray from ragged nested sequences (which is a list-or-tuple of lists-or-tuples-or ndarrays with different lengths or shapes) is deprecated. If you meant to do this, you must specify 'dtype=object' when creating the ndarray\n",
            "  import sys\n"
          ]
        }
      ]
    },
    {
      "cell_type": "code",
      "metadata": {
        "colab": {
          "base_uri": "https://localhost:8080/"
        },
        "id": "L6GqXxm_a2W7",
        "outputId": "3d29b380-5d38-4731-ba0f-5869320b5cbf"
      },
      "source": [
        "for i in y_diff: \n",
        "    print(i)"
      ],
      "execution_count": 9,
      "outputs": [
        {
          "output_type": "stream",
          "name": "stdout",
          "text": [
            "[ 9 31 55 58 63 73 76 81 88 95 97]\n",
            "[ 9 15 31 53 81 85 95]\n"
          ]
        }
      ]
    },
    {
      "cell_type": "code",
      "metadata": {
        "colab": {
          "base_uri": "https://localhost:8080/"
        },
        "id": "vJHpCfvCR56d",
        "outputId": "4d961eb1-22c8-42b3-e914-e8b96cd6f8df"
      },
      "source": [
        "y_diff = []\n",
        "for diff_pred in y_pred:\n",
        "    d = {}\n",
        "    for i, j in enumerate(diff_pred):\n",
        "        if j[0] != j[1]:\n",
        "            if j[0] == 2: d[i] = \"False Positive\"\n",
        "            else: d[i] = \"False Negative\"\n",
        "    y_diff.append(d)\n",
        "print(y_diff[0])"
      ],
      "execution_count": 10,
      "outputs": [
        {
          "output_type": "stream",
          "name": "stdout",
          "text": [
            "{9: 'False Negative', 31: 'False Negative', 55: 'False Negative', 58: 'False Negative', 63: 'False Negative', 73: 'False Negative', 76: 'False Negative', 81: 'False Negative', 88: 'False Negative', 95: 'False Negative', 97: 'False Negative'}\n"
          ]
        }
      ]
    },
    {
      "cell_type": "code",
      "metadata": {
        "colab": {
          "base_uri": "https://localhost:8080/",
          "height": 352
        },
        "id": "vFcb5LFHWwn6",
        "outputId": "6dd22eec-13c6-4e36-bfba-4c6d399dc313"
      },
      "source": [
        "from matplotlib.colors import ListedColormap\n",
        "X_new = [X_test[i] for i in y_diff[0].keys()]\n",
        "y_new = [y_test[i] for i in y_diff[0].keys()]\n",
        "X_set, y_set = sc.inverse_transform(X_new), y_new\n",
        "X1, X2 = np.meshgrid(np.arange(start = X_set[:, 0].min() - 10, stop = X_set[:, 0].max() + 10, step = 0.25),\n",
        "                     np.arange(start = X_set[:, 1].min() - 1000, stop = X_set[:, 1].max() + 1000, step = 0.25))\n",
        "plt.contourf(X1, X2,LR_classifier.predict(sc.transform(np.array([X1.ravel(), X2.ravel()]).T)).reshape(X1.shape),\n",
        "             alpha = 0.75, cmap = ListedColormap(('red', 'green')))\n",
        "plt.xlim(X1.min(), X1.max())\n",
        "plt.ylim(X2.min(), X2.max())\n",
        "for i, j in enumerate(np.unique(y_set)):\n",
        "    plt.scatter(X_set[y_set == j, 0], X_set[y_set == j, 1], c = ListedColormap(('red', 'green'))(i), label = j)\n",
        "plt.title('Prediction Errors Logistic Regression')\n",
        "plt.xlabel('Age')\n",
        "plt.ylabel('Estimated Salary')\n",
        "plt.legend()\n",
        "plt.show()"
      ],
      "execution_count": 11,
      "outputs": [
        {
          "output_type": "stream",
          "name": "stderr",
          "text": [
            "*c* argument looks like a single numeric RGB or RGBA sequence, which should be avoided as value-mapping will have precedence in case its length matches with *x* & *y*.  Please use the *color* keyword-argument or provide a 2-D array with a single row if you intend to specify the same RGB or RGBA value for all points.\n",
            "*c* argument looks like a single numeric RGB or RGBA sequence, which should be avoided as value-mapping will have precedence in case its length matches with *x* & *y*.  Please use the *color* keyword-argument or provide a 2-D array with a single row if you intend to specify the same RGB or RGBA value for all points.\n"
          ]
        },
        {
          "output_type": "display_data",
          "data": {
            "image/png": "[encoded data removed]",
            "text/plain": [
              "<Figure size 432x288 with 1 Axes>"
            ]
          },
          "metadata": {
            "needs_background": "light"
          }
        }
      ]
    }
  ]
}