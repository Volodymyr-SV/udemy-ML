{
  "nbformat": 4,
  "nbformat_minor": 0,
  "metadata": {
    "colab": {
      "name": "Day_15 _NLP_diff_method.ipynb",
      "provenance": [],
      "authorship_tag": "ABX9TyP6uw+96ykg0kb1wlchlGrC",
      "include_colab_link": true
    },
    "kernelspec": {
      "name": "python3",
      "display_name": "Python 3"
    },
    "language_info": {
      "name": "python"
    }
  },
  "cells": [
    {
      "cell_type": "markdown",
      "metadata": {
        "id": "view-in-github",
        "colab_type": "text"
      },
      "source": [
        "<a href=\"https://colab.research.google.com/github/Volodymyr-SV/udemy-ML/blob/main/Day_15__NLP_%D1%81ompar_methods.ipynb\" target=\"_parent\"><img src=\"https://colab.research.google.com/assets/colab-badge.svg\" alt=\"Open In Colab\"/></a>"
      ]
    },
    {
      "cell_type": "markdown",
      "metadata": {
        "id": "-bsbR-QJ13kk"
      },
      "source": [
        "# Import Data"
      ]
    },
    {
      "cell_type": "markdown",
      "metadata": {
        "id": "KX4R-Vsg18Qn"
      },
      "source": [
        "## Import Libraries"
      ]
    },
    {
      "cell_type": "code",
      "metadata": {
        "id": "jEcD9puw0sL3"
      },
      "source": [
        "import numpy as np\n",
        "import matplotlib.pyplot as plt\n",
        "import pandas as pd"
      ],
      "execution_count": 51,
      "outputs": []
    },
    {
      "cell_type": "markdown",
      "metadata": {
        "id": "t1klTWVi2Dml"
      },
      "source": [
        "## Import Data"
      ]
    },
    {
      "cell_type": "code",
      "metadata": {
        "id": "dCX60T652HZ8"
      },
      "source": [
        "dataset = pd.read_csv('Restaurant_Reviews.tsv', delimiter = '\\t', quoting = 3)"
      ],
      "execution_count": 52,
      "outputs": []
    },
    {
      "cell_type": "markdown",
      "metadata": {
        "id": "6R-tah0M2jfF"
      },
      "source": [
        "# Cleaning the texts"
      ]
    },
    {
      "cell_type": "code",
      "metadata": {
        "colab": {
          "base_uri": "https://localhost:8080/"
        },
        "id": "J2qqgxMc2m-a",
        "outputId": "042aa016-adcb-40fd-9aae-27e8e8a3a217"
      },
      "source": [
        "import re\n",
        "import nltk\n",
        "nltk.download('stopwords')\n",
        "from nltk.corpus import stopwords\n",
        "from nltk.stem.porter import PorterStemmer\n",
        "corpus = []\n",
        "all_stopwords = stopwords.words('english')\n",
        "all_stopwords.remove('not')\n",
        "for i in range(0, 1000):\n",
        "    reviev = re.sub('[^a-zA-Z]', ' ', dataset.values[i,0]) # dataset['Review'][i]\n",
        "    reviev = reviev.lower()\n",
        "    reviev = reviev.split()\n",
        "    ps = PorterStemmer()\n",
        "    reviev = [ps.stem(word) for word in reviev if word not in set(all_stopwords)]\n",
        "    reviev = \" \".join(reviev)\n",
        "    corpus.append(reviev)"
      ],
      "execution_count": 53,
      "outputs": [
        {
          "output_type": "stream",
          "name": "stdout",
          "text": [
            "[nltk_data] Downloading package stopwords to /root/nltk_data...\n",
            "[nltk_data]   Package stopwords is already up-to-date!\n"
          ]
        }
      ]
    },
    {
      "cell_type": "markdown",
      "metadata": {
        "id": "ppjJ4dkm2pF4"
      },
      "source": [
        "# Creating the Bag of Words model"
      ]
    },
    {
      "cell_type": "code",
      "metadata": {
        "id": "fVNurBE-2r13"
      },
      "source": [
        "from sklearn.feature_extraction.text import CountVectorizer\n",
        "cv = CountVectorizer(max_features= 1500)\n",
        "X = cv.fit_transform(corpus).toarray()\n",
        "y = dataset.iloc[:, -1].values"
      ],
      "execution_count": 54,
      "outputs": []
    },
    {
      "cell_type": "markdown",
      "metadata": {
        "id": "VE3frBtv2uNH"
      },
      "source": [
        "# Splitting the dataset"
      ]
    },
    {
      "cell_type": "code",
      "metadata": {
        "id": "rQxpEixb2t1A"
      },
      "source": [
        "from sklearn.model_selection import train_test_split\n",
        "X_train, X_test, y_train, y_test = train_test_split(X, y, test_size = 0.2, random_state=0)"
      ],
      "execution_count": 55,
      "outputs": []
    },
    {
      "cell_type": "markdown",
      "metadata": {
        "id": "Sbmx0bh31Ffo"
      },
      "source": [
        "# Methods"
      ]
    },
    {
      "cell_type": "code",
      "metadata": {
        "id": "2Uj8Jlut3Jka"
      },
      "source": [
        "from sklearn.metrics import confusion_matrix, accuracy_score, f1_score, precision_score, recall_score\n",
        "methods_name = [\"LR\", \"K-NN\", \"SVM\", \"KSVM\", \"NB\", \"DT\", \"RF\"]\n",
        "all_methods = []\n",
        "results = []"
      ],
      "execution_count": 56,
      "outputs": []
    },
    {
      "cell_type": "markdown",
      "metadata": {
        "id": "bIs_8PCa3PTi"
      },
      "source": [
        "## Logistic Regression"
      ]
    },
    {
      "cell_type": "code",
      "metadata": {
        "id": "Sau_dB5_1IaP"
      },
      "source": [
        "from sklearn.linear_model import LogisticRegression\n",
        "LR_classifier = LogisticRegression(random_state = 0)\n",
        "\n",
        "all_methods.append(LR_classifier)"
      ],
      "execution_count": 57,
      "outputs": []
    },
    {
      "cell_type": "markdown",
      "metadata": {
        "id": "SJTPwq043VlJ"
      },
      "source": [
        "## K-NN"
      ]
    },
    {
      "cell_type": "code",
      "metadata": {
        "id": "XNJxbHTv1Lxn"
      },
      "source": [
        "from sklearn.neighbors import KNeighborsClassifier\n",
        "KNN_classifier = KNeighborsClassifier(n_neighbors = 5, metric = 'minkowski', p = 2)\n",
        "\n",
        "all_methods.append(KNN_classifier)"
      ],
      "execution_count": 58,
      "outputs": []
    },
    {
      "cell_type": "markdown",
      "metadata": {
        "id": "T2V0jcgL3gS8"
      },
      "source": [
        "## SVM"
      ]
    },
    {
      "cell_type": "code",
      "metadata": {
        "id": "LX2DhOkC1PFi"
      },
      "source": [
        "from sklearn.svm import SVC\n",
        "SVC_classifier = SVC(kernel = 'linear', random_state = 0)\n",
        "\n",
        "all_methods.append(SVC_classifier)"
      ],
      "execution_count": 59,
      "outputs": []
    },
    {
      "cell_type": "markdown",
      "metadata": {
        "id": "2lPRIbGy3k1q"
      },
      "source": [
        "## Kernel SVM"
      ]
    },
    {
      "cell_type": "code",
      "metadata": {
        "id": "oi1lgBEa1Qjz"
      },
      "source": [
        "from sklearn.svm import SVC\n",
        "KSVC_classifier = SVC(kernel = 'rbf', random_state = 0)\n",
        "\n",
        "all_methods.append(KSVC_classifier)"
      ],
      "execution_count": 60,
      "outputs": []
    },
    {
      "cell_type": "markdown",
      "metadata": {
        "id": "pHiTVq3v3puX"
      },
      "source": [
        "## Naїve Bayes"
      ]
    },
    {
      "cell_type": "code",
      "metadata": {
        "id": "MbAtY4ef1R5_"
      },
      "source": [
        "from sklearn.naive_bayes import GaussianNB\n",
        "NB_classifier = GaussianNB()\n",
        "\n",
        "all_methods.append(NB_classifier)"
      ],
      "execution_count": 61,
      "outputs": []
    },
    {
      "cell_type": "markdown",
      "metadata": {
        "id": "gCO0wLwi3u-Q"
      },
      "source": [
        "## Decision Tree"
      ]
    },
    {
      "cell_type": "code",
      "metadata": {
        "id": "KmHsF4S61TQL"
      },
      "source": [
        "from sklearn.tree import DecisionTreeClassifier\n",
        "DT_classifier = DecisionTreeClassifier(criterion = 'entropy', random_state = 0)\n",
        "\n",
        "all_methods.append(DT_classifier)"
      ],
      "execution_count": 62,
      "outputs": []
    },
    {
      "cell_type": "markdown",
      "metadata": {
        "id": "DZ_KFCbP3xbd"
      },
      "source": [
        "## Random Forest"
      ]
    },
    {
      "cell_type": "code",
      "metadata": {
        "id": "XPM3m6Y31VIS"
      },
      "source": [
        "from sklearn.ensemble import RandomForestClassifier\n",
        "RFC_classifier = RandomForestClassifier(n_estimators = 9, criterion = 'entropy', random_state = 0)\n",
        "\n",
        "all_methods.append(RFC_classifier)"
      ],
      "execution_count": 63,
      "outputs": []
    },
    {
      "cell_type": "markdown",
      "metadata": {
        "id": "LXzW0cqr0g-6"
      },
      "source": [
        "# Training models"
      ]
    },
    {
      "cell_type": "code",
      "metadata": {
        "id": "9wtNqubj5gpF"
      },
      "source": [
        "for method in all_methods:\n",
        "    method.fit(X_train, y_train)\n",
        "    y_pred = method.predict(X_test)\n",
        "    y_preds.append(y_pred)"
      ],
      "execution_count": 64,
      "outputs": []
    },
    {
      "cell_type": "markdown",
      "metadata": {
        "id": "GNr6p-R_Q6I3"
      },
      "source": [
        "# Results"
      ]
    },
    {
      "cell_type": "code",
      "metadata": {
        "id": "A1FKaJXRQ97X"
      },
      "source": [
        "confusion_matrix = [confusion_matrix(y_test, y_pred) for y_pred in y_preds]\n",
        "accuracy =  [accuracy_score(y_test, y_pred) for y_pred in y_preds]\n",
        "precision = [precision_score(y_test, y_pred) for y_pred in y_preds]\n",
        "recall =    [recall_score(y_test, y_pred) for y_pred in y_preds]\n",
        "f1 =        [f1_score(y_test, y_pred) for y_pred in y_preds]\n",
        "\n",
        "resultFrame = pd.DataFrame(list(zip(methods_name, accuracy, precision, recall, f1, confusion_matrix)), \n",
        "                           columns = ['Method Name', 'Accuracy', 'Precision', 'Recall', 'F1', 'Confusion Matrix'])"
      ],
      "execution_count": 65,
      "outputs": []
    },
    {
      "cell_type": "code",
      "metadata": {
        "colab": {
          "base_uri": "https://localhost:8080/",
          "height": 269
        },
        "id": "mr2yWDju0op8",
        "outputId": "019f2c35-06a7-4836-9bd7-f8ea4c739408"
      },
      "source": [
        "resultFrame"
      ],
      "execution_count": 66,
      "outputs": [
        {
          "output_type": "execute_result",
          "data": {
            "text/html": [
              "<div>\n",
              "<style scoped>\n",
              "    .dataframe tbody tr th:only-of-type {\n",
              "        vertical-align: middle;\n",
              "    }\n",
              "\n",
              "    .dataframe tbody tr th {\n",
              "        vertical-align: top;\n",
              "    }\n",
              "\n",
              "    .dataframe thead th {\n",
              "        text-align: right;\n",
              "    }\n",
              "</style>\n",
              "<table border=\"1\" class=\"dataframe\">\n",
              "  <thead>\n",
              "    <tr style=\"text-align: right;\">\n",
              "      <th></th>\n",
              "      <th>Method Name</th>\n",
              "      <th>Accuracy</th>\n",
              "      <th>Precision</th>\n",
              "      <th>Recall</th>\n",
              "      <th>F1</th>\n",
              "      <th>Confusion Matrix</th>\n",
              "    </tr>\n",
              "  </thead>\n",
              "  <tbody>\n",
              "    <tr>\n",
              "      <th>0</th>\n",
              "      <td>LR</td>\n",
              "      <td>0.775</td>\n",
              "      <td>0.815217</td>\n",
              "      <td>0.728155</td>\n",
              "      <td>0.769231</td>\n",
              "      <td>[[80, 17], [28, 75]]</td>\n",
              "    </tr>\n",
              "    <tr>\n",
              "      <th>1</th>\n",
              "      <td>K-NN</td>\n",
              "      <td>0.645</td>\n",
              "      <td>0.677778</td>\n",
              "      <td>0.592233</td>\n",
              "      <td>0.632124</td>\n",
              "      <td>[[68, 29], [42, 61]]</td>\n",
              "    </tr>\n",
              "    <tr>\n",
              "      <th>2</th>\n",
              "      <td>SVM</td>\n",
              "      <td>0.790</td>\n",
              "      <td>0.814433</td>\n",
              "      <td>0.766990</td>\n",
              "      <td>0.790000</td>\n",
              "      <td>[[79, 18], [24, 79]]</td>\n",
              "    </tr>\n",
              "    <tr>\n",
              "      <th>3</th>\n",
              "      <td>KSVM</td>\n",
              "      <td>0.780</td>\n",
              "      <td>0.893333</td>\n",
              "      <td>0.650485</td>\n",
              "      <td>0.752809</td>\n",
              "      <td>[[89, 8], [36, 67]]</td>\n",
              "    </tr>\n",
              "    <tr>\n",
              "      <th>4</th>\n",
              "      <td>NB</td>\n",
              "      <td>0.730</td>\n",
              "      <td>0.684211</td>\n",
              "      <td>0.883495</td>\n",
              "      <td>0.771186</td>\n",
              "      <td>[[55, 42], [12, 91]]</td>\n",
              "    </tr>\n",
              "    <tr>\n",
              "      <th>5</th>\n",
              "      <td>DT</td>\n",
              "      <td>0.750</td>\n",
              "      <td>0.791209</td>\n",
              "      <td>0.699029</td>\n",
              "      <td>0.742268</td>\n",
              "      <td>[[78, 19], [31, 72]]</td>\n",
              "    </tr>\n",
              "    <tr>\n",
              "      <th>6</th>\n",
              "      <td>RF</td>\n",
              "      <td>0.730</td>\n",
              "      <td>0.845070</td>\n",
              "      <td>0.582524</td>\n",
              "      <td>0.689655</td>\n",
              "      <td>[[86, 11], [43, 60]]</td>\n",
              "    </tr>\n",
              "  </tbody>\n",
              "</table>\n",
              "</div>"
            ],
            "text/plain": [
              "  Method Name  Accuracy  Precision    Recall        F1      Confusion Matrix\n",
              "0          LR     0.775   0.815217  0.728155  0.769231  [[80, 17], [28, 75]]\n",
              "1        K-NN     0.645   0.677778  0.592233  0.632124  [[68, 29], [42, 61]]\n",
              "2         SVM     0.790   0.814433  0.766990  0.790000  [[79, 18], [24, 79]]\n",
              "3        KSVM     0.780   0.893333  0.650485  0.752809   [[89, 8], [36, 67]]\n",
              "4          NB     0.730   0.684211  0.883495  0.771186  [[55, 42], [12, 91]]\n",
              "5          DT     0.750   0.791209  0.699029  0.742268  [[78, 19], [31, 72]]\n",
              "6          RF     0.730   0.845070  0.582524  0.689655  [[86, 11], [43, 60]]"
            ]
          },
          "metadata": {},
          "execution_count": 66
        }
      ]
    }
  ]
}